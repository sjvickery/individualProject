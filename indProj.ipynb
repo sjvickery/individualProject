{
 "cells": [
  {
   "cell_type": "code",
   "execution_count": 54,
   "id": "7b27c16b-7094-49db-b9cd-5463c8604fc3",
   "metadata": {},
   "outputs": [
    {
     "name": "stdout",
     "output_type": "stream",
     "text": [
      "IGRAPH DN-- 5 4 --\n",
      "+ attr: name (v)\n",
      "+ edges (vertex names):\n",
      "Zambia->Namibia, Namibia->Botswana, Botswana->Zimbabwe, Zimbabwe->Moxambique\n"
     ]
    },
    {
     "data": {
      "image/svg+xml": [
       "<?xml version=\"1.0\" encoding=\"UTF-8\"?>\n",
       "<svg xmlns=\"http://www.w3.org/2000/svg\" xmlns:xlink=\"http://www.w3.org/1999/xlink\" width=\"600pt\" height=\"600pt\" viewBox=\"0 0 600 600\" version=\"1.1\">\n",
       "<g id=\"surface136\">\n",
       "<rect x=\"0\" y=\"0\" width=\"600\" height=\"600\" style=\"fill:rgb(100%,100%,100%);fill-opacity:1;stroke:none;\"/>\n",
       "<path style=\"fill:none;stroke-width:1;stroke-linecap:butt;stroke-linejoin:miter;stroke:rgb(26.666667%,26.666667%,26.666667%);stroke-opacity:1;stroke-miterlimit:10;\" d=\"M 20 20 L 133.398438 133.460938 \"/>\n",
       "<path style=\" stroke:none;fill-rule:nonzero;fill:rgb(26.666667%,26.666667%,26.666667%);fill-opacity:1;\" d=\"M 143.484375 143.550781 L 130.121094 136.734375 L 136.679688 130.183594 L 143.484375 143.550781 \"/>\n",
       "<path style=\"fill:none;stroke-width:1;stroke-linecap:butt;stroke-linejoin:miter;stroke:rgb(26.666667%,26.666667%,26.666667%);stroke-opacity:1;stroke-miterlimit:10;\" d=\"M 150.554688 150.621094 L 282.722656 282.855469 \"/>\n",
       "<path style=\" stroke:none;fill-rule:nonzero;fill:rgb(26.666667%,26.666667%,26.666667%);fill-opacity:1;\" d=\"M 292.808594 292.945312 L 279.445312 286.132812 L 286 279.578125 L 292.808594 292.945312 \"/>\n",
       "<path style=\"fill:none;stroke-width:1;stroke-linecap:butt;stroke-linejoin:miter;stroke:rgb(26.666667%,26.666667%,26.666667%);stroke-opacity:1;stroke-miterlimit:10;\" d=\"M 299.878906 300.019531 L 432.03125 432.179688 \"/>\n",
       "<path style=\" stroke:none;fill-rule:nonzero;fill:rgb(26.666667%,26.666667%,26.666667%);fill-opacity:1;\" d=\"M 442.117188 442.265625 L 428.753906 435.457031 L 435.308594 428.902344 L 442.117188 442.265625 \"/>\n",
       "<path style=\"fill:none;stroke-width:1;stroke-linecap:butt;stroke-linejoin:miter;stroke:rgb(26.666667%,26.666667%,26.666667%);stroke-opacity:1;stroke-miterlimit:10;\" d=\"M 449.1875 449.339844 L 562.832031 562.851562 \"/>\n",
       "<path style=\" stroke:none;fill-rule:nonzero;fill:rgb(26.666667%,26.666667%,26.666667%);fill-opacity:1;\" d=\"M 572.925781 572.933594 L 559.554688 566.128906 L 566.105469 559.570312 L 572.925781 572.933594 \"/>\n",
       "<path style=\"fill-rule:nonzero;fill:rgb(100%,0%,0%);fill-opacity:1;stroke-width:1;stroke-linecap:butt;stroke-linejoin:miter;stroke:rgb(0%,0%,0%);stroke-opacity:1;stroke-miterlimit:10;\" d=\"M 30 20 C 30 25.523438 25.523438 30 20 30 C 14.476562 30 10 25.523438 10 20 C 10 14.476562 14.476562 10 20 10 C 25.523438 10 30 14.476562 30 20 \"/>\n",
       "<path style=\"fill-rule:nonzero;fill:rgb(100%,0%,0%);fill-opacity:1;stroke-width:1;stroke-linecap:butt;stroke-linejoin:miter;stroke:rgb(0%,0%,0%);stroke-opacity:1;stroke-miterlimit:10;\" d=\"M 160.554688 150.621094 C 160.554688 156.144531 156.078125 160.621094 150.554688 160.621094 C 145.03125 160.621094 140.554688 156.144531 140.554688 150.621094 C 140.554688 145.097656 145.03125 140.621094 150.554688 140.621094 C 156.078125 140.621094 160.554688 145.097656 160.554688 150.621094 \"/>\n",
       "<path style=\"fill-rule:nonzero;fill:rgb(100%,0%,0%);fill-opacity:1;stroke-width:1;stroke-linecap:butt;stroke-linejoin:miter;stroke:rgb(0%,0%,0%);stroke-opacity:1;stroke-miterlimit:10;\" d=\"M 309.878906 300.019531 C 309.878906 305.542969 305.402344 310.019531 299.878906 310.019531 C 294.355469 310.019531 289.878906 305.542969 289.878906 300.019531 C 289.878906 294.496094 294.355469 290.019531 299.878906 290.019531 C 305.402344 290.019531 309.878906 294.496094 309.878906 300.019531 \"/>\n",
       "<path style=\"fill-rule:nonzero;fill:rgb(100%,0%,0%);fill-opacity:1;stroke-width:1;stroke-linecap:butt;stroke-linejoin:miter;stroke:rgb(0%,0%,0%);stroke-opacity:1;stroke-miterlimit:10;\" d=\"M 459.1875 449.339844 C 459.1875 454.859375 454.710938 459.339844 449.1875 459.339844 C 443.664062 459.339844 439.1875 454.859375 439.1875 449.339844 C 439.1875 443.816406 443.664062 439.339844 449.1875 439.339844 C 454.710938 439.339844 459.1875 443.816406 459.1875 449.339844 \"/>\n",
       "<path style=\"fill-rule:nonzero;fill:rgb(100%,0%,0%);fill-opacity:1;stroke-width:1;stroke-linecap:butt;stroke-linejoin:miter;stroke:rgb(0%,0%,0%);stroke-opacity:1;stroke-miterlimit:10;\" d=\"M 590 580 C 590 585.523438 585.523438 590 580 590 C 574.476562 590 570 585.523438 570 580 C 570 574.476562 574.476562 570 580 570 C 585.523438 570 590 574.476562 590 580 \"/>\n",
       "</g>\n",
       "</svg>\n"
      ],
      "text/plain": [
       "<igraph.drawing.Plot at 0x7fd8bf3c67f0>"
      ]
     },
     "execution_count": 54,
     "metadata": {
      "image/svg+xml": {
       "isolated": true
      }
     },
     "output_type": "execute_result"
    }
   ],
   "source": [
    "#from igraph import *\n",
    "import igraph as ig\n",
    "import pandas as pd\n",
    "import cairo\n",
    "\n",
    "g = Graph(directed=True)\n",
    "\n",
    "g.add_vertices(5)\n",
    "g.add_edges([(0,1), (1,2), (2,3), (3,4)])\n",
    "g.vs\n",
    "g.vs[\"name\"] = [\"Zambia\", \"Namibia\", \"Botswana\", \"Zimbabwe\", \"Moxambique\"]\n",
    "print(g)\n",
    "\n",
    "ig.plot(g)"
   ]
  },
  {
   "cell_type": "code",
   "execution_count": 57,
   "id": "98549bc0-2d6d-454e-bf4a-f37cd0634a08",
   "metadata": {},
   "outputs": [
    {
     "name": "stdout",
     "output_type": "stream",
     "text": [
      "IGRAPH DN-- 5 0 --\n",
      "+ attr: name (v)\n",
      "IGRAPH DN-- 5 3 --\n",
      "+ attr: name (v)\n",
      "+ edges (vertex names):\n",
      "Zambia->Namibia, Namibia->Botswana, Namibia->Botswana\n"
     ]
    },
    {
     "data": {
      "image/svg+xml": [
       "<?xml version=\"1.0\" encoding=\"UTF-8\"?>\n",
       "<svg xmlns=\"http://www.w3.org/2000/svg\" xmlns:xlink=\"http://www.w3.org/1999/xlink\" width=\"600pt\" height=\"600pt\" viewBox=\"0 0 600 600\" version=\"1.1\">\n",
       "<g id=\"surface148\">\n",
       "<rect x=\"0\" y=\"0\" width=\"600\" height=\"600\" style=\"fill:rgb(100%,100%,100%);fill-opacity:1;stroke:none;\"/>\n",
       "<path style=\"fill:none;stroke-width:1;stroke-linecap:butt;stroke-linejoin:miter;stroke:rgb(26.666667%,26.666667%,26.666667%);stroke-opacity:1;stroke-miterlimit:10;\" d=\"M 20 291.894531 L 135.691406 149.007812 \"/>\n",
       "<path style=\" stroke:none;fill-rule:nonzero;fill:rgb(26.666667%,26.666667%,26.666667%);fill-opacity:1;\" d=\"M 144.667969 137.921875 L 139.292969 151.925781 L 132.089844 146.089844 L 144.667969 137.921875 \"/>\n",
       "<path style=\"fill:none;stroke-width:1;stroke-linecap:butt;stroke-linejoin:miter;stroke:rgb(26.666667%,26.666667%,26.666667%);stroke-opacity:1;stroke-miterlimit:10;\" d=\"M 150.960938 130.148438 C 212.632812 131.328125 256.960938 103.488281 271.070312 43.601562 \"/>\n",
       "<path style=\" stroke:none;fill-rule:nonzero;fill:rgb(26.666667%,26.666667%,26.666667%);fill-opacity:1;\" d=\"M 274.339844 29.714844 L 275.582031 44.664062 L 266.558594 42.539062 L 274.339844 29.714844 \"/>\n",
       "<path style=\"fill:none;stroke-width:1;stroke-linecap:butt;stroke-linejoin:miter;stroke:rgb(26.666667%,26.666667%,26.666667%);stroke-opacity:1;stroke-miterlimit:10;\" d=\"M 150.960938 130.148438 C 157.875 68.851562 191.285156 28.554688 252.503906 22.417969 \"/>\n",
       "<path style=\" stroke:none;fill-rule:nonzero;fill:rgb(26.666667%,26.666667%,26.666667%);fill-opacity:1;\" d=\"M 266.699219 20.996094 L 252.964844 27.03125 L 252.042969 17.808594 L 266.699219 20.996094 \"/>\n",
       "<path style=\"fill-rule:nonzero;fill:rgb(100%,0%,0%);fill-opacity:1;stroke-width:1;stroke-linecap:butt;stroke-linejoin:miter;stroke:rgb(0%,0%,0%);stroke-opacity:1;stroke-miterlimit:10;\" d=\"M 30 291.894531 C 30 297.417969 25.523438 301.894531 20 301.894531 C 14.476562 301.894531 10 297.417969 10 291.894531 C 10 286.371094 14.476562 281.894531 20 281.894531 C 25.523438 281.894531 30 286.371094 30 291.894531 \"/>\n",
       "<path style=\"fill-rule:nonzero;fill:rgb(100%,0%,0%);fill-opacity:1;stroke-width:1;stroke-linecap:butt;stroke-linejoin:miter;stroke:rgb(0%,0%,0%);stroke-opacity:1;stroke-miterlimit:10;\" d=\"M 160.960938 130.148438 C 160.960938 135.671875 156.484375 140.148438 150.960938 140.148438 C 145.4375 140.148438 140.960938 135.671875 140.960938 130.148438 C 140.960938 124.625 145.4375 120.148438 150.960938 120.148438 C 156.484375 120.148438 160.960938 124.625 160.960938 130.148438 \"/>\n",
       "<path style=\"fill-rule:nonzero;fill:rgb(100%,0%,0%);fill-opacity:1;stroke-width:1;stroke-linecap:butt;stroke-linejoin:miter;stroke:rgb(0%,0%,0%);stroke-opacity:1;stroke-miterlimit:10;\" d=\"M 286.628906 20 C 286.628906 25.523438 282.152344 30 276.628906 30 C 271.105469 30 266.628906 25.523438 266.628906 20 C 266.628906 14.476562 271.105469 10 276.628906 10 C 282.152344 10 286.628906 14.476562 286.628906 20 \"/>\n",
       "<path style=\"fill-rule:nonzero;fill:rgb(100%,0%,0%);fill-opacity:1;stroke-width:1;stroke-linecap:butt;stroke-linejoin:miter;stroke:rgb(0%,0%,0%);stroke-opacity:1;stroke-miterlimit:10;\" d=\"M 590 288.863281 C 590 294.386719 585.523438 298.863281 580 298.863281 C 574.476562 298.863281 570 294.386719 570 288.863281 C 570 283.34375 574.476562 278.863281 580 278.863281 C 585.523438 278.863281 590 283.34375 590 288.863281 \"/>\n",
       "<path style=\"fill-rule:nonzero;fill:rgb(100%,0%,0%);fill-opacity:1;stroke-width:1;stroke-linecap:butt;stroke-linejoin:miter;stroke:rgb(0%,0%,0%);stroke-opacity:1;stroke-miterlimit:10;\" d=\"M 307.078125 580 C 307.078125 585.523438 302.601562 590 297.078125 590 C 291.558594 590 287.078125 585.523438 287.078125 580 C 287.078125 574.476562 291.558594 570 297.078125 570 C 302.601562 570 307.078125 574.476562 307.078125 580 \"/>\n",
       "</g>\n",
       "</svg>\n"
      ],
      "text/plain": [
       "<igraph.drawing.Plot at 0x7fd8bf3c6f40>"
      ]
     },
     "execution_count": 57,
     "metadata": {
      "image/svg+xml": {
       "isolated": true
      }
     },
     "output_type": "execute_result"
    }
   ],
   "source": [
    "data = pd.read_csv('indProj.csv')\n",
    "\n",
    "g2 = Graph(directed = True)\n",
    "g2.add_vertices(data['Vertex'])\n",
    "\n",
    "print(g2)\n",
    "vertex = 0\n",
    "vertex2 = 1\n",
    "g2.add_edges([(vertex, vertex2)])\n",
    "g2.vs\n",
    "i = 0\n",
    "for row in data:\n",
    "    g2.add_edges([(vertex + 1, vertex2 + 1)])\n",
    "\n",
    "for row in data:\n",
    "    g2.vs[\"name\"] = data['Country']\n",
    "    \n",
    "print(g2)\n",
    "ig.plot(g2)\n"
   ]
  },
  {
   "cell_type": "code",
   "execution_count": null,
   "id": "202b5143-ee2f-465d-88e2-24194eae4604",
   "metadata": {},
   "outputs": [],
   "source": []
  },
  {
   "cell_type": "code",
   "execution_count": null,
   "id": "9957865c-e03a-4651-8247-1867eeff3bb6",
   "metadata": {},
   "outputs": [],
   "source": []
  }
 ],
 "metadata": {
  "kernelspec": {
   "display_name": "Python 3 (ipykernel)",
   "language": "python",
   "name": "python3"
  },
  "language_info": {
   "codemirror_mode": {
    "name": "ipython",
    "version": 3
   },
   "file_extension": ".py",
   "mimetype": "text/x-python",
   "name": "python",
   "nbconvert_exporter": "python",
   "pygments_lexer": "ipython3",
   "version": "3.9.7"
  }
 },
 "nbformat": 4,
 "nbformat_minor": 5
}
