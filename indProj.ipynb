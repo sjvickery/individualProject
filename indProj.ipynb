{
 "cells": [
  {
   "cell_type": "code",
   "execution_count": 58,
   "id": "7b27c16b-7094-49db-b9cd-5463c8604fc3",
   "metadata": {},
   "outputs": [
    {
     "name": "stdout",
     "output_type": "stream",
     "text": [
      "IGRAPH DN-- 5 4 --\n",
      "+ attr: name (v)\n",
      "+ edges (vertex names):\n",
      "Zambia->Namibia, Namibia->Botswana, Botswana->Zimbabwe, Zimbabwe->Moxambique\n"
     ]
    },
    {
     "data": {
      "image/svg+xml": [
       "<?xml version=\"1.0\" encoding=\"UTF-8\"?>\n",
       "<svg xmlns=\"http://www.w3.org/2000/svg\" xmlns:xlink=\"http://www.w3.org/1999/xlink\" width=\"600pt\" height=\"600pt\" viewBox=\"0 0 600 600\" version=\"1.1\">\n",
       "<g id=\"surface154\">\n",
       "<rect x=\"0\" y=\"0\" width=\"600\" height=\"600\" style=\"fill:rgb(100%,100%,100%);fill-opacity:1;stroke:none;\"/>\n",
       "<path style=\"fill:none;stroke-width:1;stroke-linecap:butt;stroke-linejoin:miter;stroke:rgb(26.666667%,26.666667%,26.666667%);stroke-opacity:1;stroke-miterlimit:10;\" d=\"M 20 580 L 133.453125 466.40625 \"/>\n",
       "<path style=\" stroke:none;fill-rule:nonzero;fill:rgb(26.666667%,26.666667%,26.666667%);fill-opacity:1;\" d=\"M 143.535156 456.3125 L 136.730469 469.679688 L 130.171875 463.128906 L 143.535156 456.3125 \"/>\n",
       "<path style=\"fill:none;stroke-width:1;stroke-linecap:butt;stroke-linejoin:miter;stroke:rgb(26.666667%,26.666667%,26.666667%);stroke-opacity:1;stroke-miterlimit:10;\" d=\"M 150.601562 449.234375 L 282.753906 316.996094 \"/>\n",
       "<path style=\" stroke:none;fill-rule:nonzero;fill:rgb(26.666667%,26.666667%,26.666667%);fill-opacity:1;\" d=\"M 292.839844 306.90625 L 286.035156 320.273438 L 279.476562 313.71875 L 292.839844 306.90625 \"/>\n",
       "<path style=\"fill:none;stroke-width:1;stroke-linecap:butt;stroke-linejoin:miter;stroke:rgb(26.666667%,26.666667%,26.666667%);stroke-opacity:1;stroke-miterlimit:10;\" d=\"M 299.90625 299.832031 L 432.152344 167.617188 \"/>\n",
       "<path style=\" stroke:none;fill-rule:nonzero;fill:rgb(26.666667%,26.666667%,26.666667%);fill-opacity:1;\" d=\"M 442.242188 157.53125 L 435.429688 170.894531 L 428.875 164.339844 L 442.242188 157.53125 \"/>\n",
       "<path style=\"fill:none;stroke-width:1;stroke-linecap:butt;stroke-linejoin:miter;stroke:rgb(26.666667%,26.666667%,26.666667%);stroke-opacity:1;stroke-miterlimit:10;\" d=\"M 449.3125 150.460938 L 562.828125 37.144531 \"/>\n",
       "<path style=\" stroke:none;fill-rule:nonzero;fill:rgb(26.666667%,26.666667%,26.666667%);fill-opacity:1;\" d=\"M 572.921875 27.066406 L 566.101562 40.425781 L 559.550781 33.863281 L 572.921875 27.066406 \"/>\n",
       "<path style=\"fill-rule:nonzero;fill:rgb(100%,0%,0%);fill-opacity:1;stroke-width:1;stroke-linecap:butt;stroke-linejoin:miter;stroke:rgb(0%,0%,0%);stroke-opacity:1;stroke-miterlimit:10;\" d=\"M 30 580 C 30 585.523438 25.523438 590 20 590 C 14.476562 590 10 585.523438 10 580 C 10 574.476562 14.476562 570 20 570 C 25.523438 570 30 574.476562 30 580 \"/>\n",
       "<path style=\"fill-rule:nonzero;fill:rgb(100%,0%,0%);fill-opacity:1;stroke-width:1;stroke-linecap:butt;stroke-linejoin:miter;stroke:rgb(0%,0%,0%);stroke-opacity:1;stroke-miterlimit:10;\" d=\"M 160.601562 449.234375 C 160.601562 454.757812 156.125 459.234375 150.601562 459.234375 C 145.078125 459.234375 140.601562 454.757812 140.601562 449.234375 C 140.601562 443.714844 145.078125 439.234375 150.601562 439.234375 C 156.125 439.234375 160.601562 443.714844 160.601562 449.234375 \"/>\n",
       "<path style=\"fill-rule:nonzero;fill:rgb(100%,0%,0%);fill-opacity:1;stroke-width:1;stroke-linecap:butt;stroke-linejoin:miter;stroke:rgb(0%,0%,0%);stroke-opacity:1;stroke-miterlimit:10;\" d=\"M 309.90625 299.832031 C 309.90625 305.355469 305.429688 309.832031 299.90625 309.832031 C 294.386719 309.832031 289.90625 305.355469 289.90625 299.832031 C 289.90625 294.308594 294.386719 289.832031 299.90625 289.832031 C 305.429688 289.832031 309.90625 294.308594 309.90625 299.832031 \"/>\n",
       "<path style=\"fill-rule:nonzero;fill:rgb(100%,0%,0%);fill-opacity:1;stroke-width:1;stroke-linecap:butt;stroke-linejoin:miter;stroke:rgb(0%,0%,0%);stroke-opacity:1;stroke-miterlimit:10;\" d=\"M 459.3125 150.460938 C 459.3125 155.984375 454.835938 160.460938 449.3125 160.460938 C 443.789062 160.460938 439.3125 155.984375 439.3125 150.460938 C 439.3125 144.9375 443.789062 140.460938 449.3125 140.460938 C 454.835938 140.460938 459.3125 144.9375 459.3125 150.460938 \"/>\n",
       "<path style=\"fill-rule:nonzero;fill:rgb(100%,0%,0%);fill-opacity:1;stroke-width:1;stroke-linecap:butt;stroke-linejoin:miter;stroke:rgb(0%,0%,0%);stroke-opacity:1;stroke-miterlimit:10;\" d=\"M 590 20 C 590 25.523438 585.523438 30 580 30 C 574.476562 30 570 25.523438 570 20 C 570 14.476562 574.476562 10 580 10 C 585.523438 10 590 14.476562 590 20 \"/>\n",
       "</g>\n",
       "</svg>\n"
      ],
      "text/plain": [
       "<igraph.drawing.Plot at 0x7fd8bfdb6820>"
      ]
     },
     "execution_count": 58,
     "metadata": {
      "image/svg+xml": {
       "isolated": true
      }
     },
     "output_type": "execute_result"
    }
   ],
   "source": [
    "#from igraph import *\n",
    "import igraph as ig\n",
    "import pandas as pd\n",
    "import cairo\n",
    "\n",
    "g = Graph(directed=True)\n",
    "\n",
    "g.add_vertices(5)\n",
    "g.add_edges([(0,1), (1,2), (2,3), (3,4)])\n",
    "g.vs\n",
    "g.vs[\"name\"] = [\"Zambia\", \"Namibia\", \"Botswana\", \"Zimbabwe\", \"Moxambique\"]\n",
    "print(g)\n",
    "\n",
    "ig.plot(g)"
   ]
  },
  {
   "cell_type": "code",
   "execution_count": 59,
   "id": "98549bc0-2d6d-454e-bf4a-f37cd0634a08",
   "metadata": {},
   "outputs": [
    {
     "name": "stdout",
     "output_type": "stream",
     "text": [
      "IGRAPH DN-- 5 0 --\n",
      "+ attr: name (v)\n",
      "IGRAPH DN-- 5 3 --\n",
      "+ attr: name (v)\n",
      "+ edges (vertex names):\n",
      "Zambia->Namibia, Namibia->Botswana, Namibia->Botswana\n"
     ]
    },
    {
     "data": {
      "image/svg+xml": [
       "<?xml version=\"1.0\" encoding=\"UTF-8\"?>\n",
       "<svg xmlns=\"http://www.w3.org/2000/svg\" xmlns:xlink=\"http://www.w3.org/1999/xlink\" width=\"600pt\" height=\"600pt\" viewBox=\"0 0 600 600\" version=\"1.1\">\n",
       "<g id=\"surface160\">\n",
       "<rect x=\"0\" y=\"0\" width=\"600\" height=\"600\" style=\"fill:rgb(100%,100%,100%);fill-opacity:1;stroke:none;\"/>\n",
       "<path style=\"fill:none;stroke-width:1;stroke-linecap:butt;stroke-linejoin:miter;stroke:rgb(26.666667%,26.666667%,26.666667%);stroke-opacity:1;stroke-miterlimit:10;\" d=\"M 301.496094 20 L 154.183594 130.773438 \"/>\n",
       "<path style=\" stroke:none;fill-rule:nonzero;fill:rgb(26.666667%,26.666667%,26.666667%);fill-opacity:1;\" d=\"M 142.78125 139.347656 L 151.398438 127.070312 L 156.96875 134.480469 L 142.78125 139.347656 \"/>\n",
       "<path style=\"fill:none;stroke-width:1;stroke-linecap:butt;stroke-linejoin:miter;stroke:rgb(26.666667%,26.666667%,26.666667%);stroke-opacity:1;stroke-miterlimit:10;\" d=\"M 134.789062 145.359375 C 73.167969 150.085938 31.632812 182.09375 23.285156 243.171875 \"/>\n",
       "<path style=\" stroke:none;fill-rule:nonzero;fill:rgb(26.666667%,26.666667%,26.666667%);fill-opacity:1;\" d=\"M 21.351562 257.308594 L 18.691406 242.546875 L 27.875 243.800781 L 21.351562 257.308594 \"/>\n",
       "<path style=\"fill:none;stroke-width:1;stroke-linecap:butt;stroke-linejoin:miter;stroke:rgb(26.666667%,26.666667%,26.666667%);stroke-opacity:1;stroke-miterlimit:10;\" d=\"M 134.789062 145.359375 C 133.738281 207.152344 104.257812 250.519531 43.785156 262.488281 \"/>\n",
       "<path style=\" stroke:none;fill-rule:nonzero;fill:rgb(26.666667%,26.666667%,26.666667%);fill-opacity:1;\" d=\"M 29.792969 265.257812 L 42.886719 257.941406 L 44.6875 267.035156 L 29.792969 265.257812 \"/>\n",
       "<path style=\"fill-rule:nonzero;fill:rgb(100%,0%,0%);fill-opacity:1;stroke-width:1;stroke-linecap:butt;stroke-linejoin:miter;stroke:rgb(0%,0%,0%);stroke-opacity:1;stroke-miterlimit:10;\" d=\"M 311.496094 20 C 311.496094 25.523438 307.019531 30 301.496094 30 C 295.976562 30 291.496094 25.523438 291.496094 20 C 291.496094 14.476562 295.976562 10 301.496094 10 C 307.019531 10 311.496094 14.476562 311.496094 20 \"/>\n",
       "<path style=\"fill-rule:nonzero;fill:rgb(100%,0%,0%);fill-opacity:1;stroke-width:1;stroke-linecap:butt;stroke-linejoin:miter;stroke:rgb(0%,0%,0%);stroke-opacity:1;stroke-miterlimit:10;\" d=\"M 144.789062 145.359375 C 144.789062 150.882812 140.3125 155.359375 134.789062 155.359375 C 129.265625 155.359375 124.789062 150.882812 124.789062 145.359375 C 124.789062 139.835938 129.265625 135.359375 134.789062 135.359375 C 140.3125 135.359375 144.789062 139.835938 144.789062 145.359375 \"/>\n",
       "<path style=\"fill-rule:nonzero;fill:rgb(100%,0%,0%);fill-opacity:1;stroke-width:1;stroke-linecap:butt;stroke-linejoin:miter;stroke:rgb(0%,0%,0%);stroke-opacity:1;stroke-miterlimit:10;\" d=\"M 30 267.195312 C 30 272.71875 25.523438 277.195312 20 277.195312 C 14.476562 277.195312 10 272.71875 10 267.195312 C 10 261.675781 14.476562 257.195312 20 257.195312 C 25.523438 257.195312 30 261.675781 30 267.195312 \"/>\n",
       "<path style=\"fill-rule:nonzero;fill:rgb(100%,0%,0%);fill-opacity:1;stroke-width:1;stroke-linecap:butt;stroke-linejoin:miter;stroke:rgb(0%,0%,0%);stroke-opacity:1;stroke-miterlimit:10;\" d=\"M 288.585938 580 C 288.585938 585.523438 284.105469 590 278.585938 590 C 273.0625 590 268.585938 585.523438 268.585938 580 C 268.585938 574.476562 273.0625 570 278.585938 570 C 284.105469 570 288.585938 574.476562 288.585938 580 \"/>\n",
       "<path style=\"fill-rule:nonzero;fill:rgb(100%,0%,0%);fill-opacity:1;stroke-width:1;stroke-linecap:butt;stroke-linejoin:miter;stroke:rgb(0%,0%,0%);stroke-opacity:1;stroke-miterlimit:10;\" d=\"M 590 307.246094 C 590 312.769531 585.523438 317.246094 580 317.246094 C 574.476562 317.246094 570 312.769531 570 307.246094 C 570 301.722656 574.476562 297.246094 580 297.246094 C 585.523438 297.246094 590 301.722656 590 307.246094 \"/>\n",
       "</g>\n",
       "</svg>\n"
      ],
      "text/plain": [
       "<igraph.drawing.Plot at 0x7fd8bf3fd970>"
      ]
     },
     "execution_count": 59,
     "metadata": {
      "image/svg+xml": {
       "isolated": true
      }
     },
     "output_type": "execute_result"
    }
   ],
   "source": [
    "data = pd.read_csv('indProj.csv')\n",
    "\n",
    "g2 = Graph(directed = True)\n",
    "g2.add_vertices(data['Vertex'])\n",
    "\n",
    "print(g2)\n",
    "vertex = 0\n",
    "vertex2 = 1\n",
    "g2.add_edges([(vertex, vertex2)])\n",
    "g2.vs\n",
    "i = 0\n",
    "for row in data:\n",
    "    g2.add_edges([(vertex + 1, vertex2 + 1)])\n",
    "\n",
    "for row in data:\n",
    "    g2.vs[\"name\"] = data['Country']\n",
    "    \n",
    "print(g2)\n",
    "ig.plot(g2)\n"
   ]
  },
  {
   "cell_type": "code",
   "execution_count": null,
   "id": "202b5143-ee2f-465d-88e2-24194eae4604",
   "metadata": {},
   "outputs": [],
   "source": []
  },
  {
   "cell_type": "code",
   "execution_count": null,
   "id": "9957865c-e03a-4651-8247-1867eeff3bb6",
   "metadata": {},
   "outputs": [],
   "source": []
  }
 ],
 "metadata": {
  "kernelspec": {
   "display_name": "Python 3 (ipykernel)",
   "language": "python",
   "name": "python3"
  },
  "language_info": {
   "codemirror_mode": {
    "name": "ipython",
    "version": 3
   },
   "file_extension": ".py",
   "mimetype": "text/x-python",
   "name": "python",
   "nbconvert_exporter": "python",
   "pygments_lexer": "ipython3",
   "version": "3.9.7"
  }
 },
 "nbformat": 4,
 "nbformat_minor": 5
}
