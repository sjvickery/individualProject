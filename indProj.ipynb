{
 "cells": [
  {
   "cell_type": "code",
   "execution_count": 6,
   "id": "7b27c16b-7094-49db-b9cd-5463c8604fc3",
   "metadata": {},
   "outputs": [
    {
     "name": "stdout",
     "output_type": "stream",
     "text": [
      "IGRAPH DN-- 5 3 --\n",
      "+ attr: name (v)\n",
      "+ edges (vertex names):\n",
      "Zambia->Namibia, Namibia->Botswana, Namibia->Botswana\n"
     ]
    }
   ],
   "source": [
    "from igraph import *\n",
    "import pandas as pd\n",
    "\n",
    "\n",
    "g = Graph(directed=True)\n",
    "\"\"\"\"\n",
    "g.add_vertices(5)\n",
    "g.add_edges([(0,1), (1,2), (2,3), (3,4)])\n",
    "g.vs\n",
    "g.vs[\"name\"] = [\"Zambia\", \"Namibia\", \"Botswana\", \"Zimbabwe\", \"Moxambique\"]\n",
    "print(g)\n",
    "\"\"\"\n",
    "data = pd.read_csv('indProj.csv')\n",
    "\n",
    "g2 = Graph(directed = True)\n",
    "g2.add_vertices(data['Vertex'])\n",
    "vertex = 0\n",
    "vertex2 = 1\n",
    "g2.add_edges([(vertex, vertex2)])\n",
    "g2.vs\n",
    "    \n",
    "for row in data:\n",
    "    if row == 1:\n",
    "        g2.add_edges([(vertex, vertex2)])\n",
    "    else:\n",
    "        g2.add_edges([(vertex + 1, vertex2 + 1)])\n",
    "    for row in data:\n",
    "        g2.vs[\"name\"] = data['Country']\n",
    "\n",
    "print(g2)"
   ]
  },
  {
   "cell_type": "code",
   "execution_count": null,
   "id": "6cf2751c-a73f-466a-9545-e48eb2da3065",
   "metadata": {},
   "outputs": [],
   "source": []
  }
 ],
 "metadata": {
  "kernelspec": {
   "display_name": "Python 3 (ipykernel)",
   "language": "python",
   "name": "python3"
  },
  "language_info": {
   "codemirror_mode": {
    "name": "ipython",
    "version": 3
   },
   "file_extension": ".py",
   "mimetype": "text/x-python",
   "name": "python",
   "nbconvert_exporter": "python",
   "pygments_lexer": "ipython3",
   "version": "3.9.7"
  }
 },
 "nbformat": 4,
 "nbformat_minor": 5
}
